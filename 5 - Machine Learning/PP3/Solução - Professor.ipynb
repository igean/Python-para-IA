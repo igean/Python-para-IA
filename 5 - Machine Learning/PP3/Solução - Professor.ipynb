{
 "cells": [
  {
   "cell_type": "code",
   "execution_count": 37,
   "metadata": {},
   "outputs": [],
   "source": [
    "import pandas as pd\n",
    "from sklearn.model_selection import train_test_split\n",
    "from sklearn.neural_network import MLPClassifier\n",
    "from sklearn.metrics import accuracy_score, f1_score, confusion_matrix, precision_score\n",
    "from sklearn.neighbors import KNeighborsClassifier, NearestCentroid"
   ]
  },
  {
   "cell_type": "code",
   "execution_count": 38,
   "metadata": {},
   "outputs": [],
   "source": [
    "train = pd.read_csv(\"SPECT-train.csv\", header=None)\n",
    "test = pd.read_csv(\"SPECT-test.csv\", header=None)"
   ]
  },
  {
   "cell_type": "code",
   "execution_count": 50,
   "metadata": {},
   "outputs": [],
   "source": [
    "x_train = train.drop([0], axis=1)\n",
    "y_train = train[0]\n",
    "x_test = test.drop([0], axis=1)\n",
    "y_test = test[0]"
   ]
  },
  {
   "cell_type": "code",
   "execution_count": 91,
   "metadata": {},
   "outputs": [
    {
     "name": "stdout",
     "output_type": "stream",
     "text": [
      "F1-Score: 0.958217270194986\n",
      "Acurácia: 0.9197860962566845\n",
      "Precisão: 0.9197860962566845\n"
     ]
    }
   ],
   "source": [
    "MLP = MLPClassifier(hidden_layer_sizes=(64,32,16),\n",
    "                     max_iter=2000, \n",
    "                     activation='logistic')\n",
    "MLP.fit(x_train, y_train)\n",
    "\n",
    "previsaoMLP = MLP.predict(x_test)\n",
    "print('F1-Score:', f1_score(y_test, previsaoMLP))\n",
    "print('Acurácia:', accuracy_score(y_test, previsaoMLP))\n",
    "print('Precisão:', precision_score(y_test, previsaoMLP))"
   ]
  }
 ],
 "metadata": {
  "kernelspec": {
   "display_name": "Python 3",
   "language": "python",
   "name": "python3"
  },
  "language_info": {
   "codemirror_mode": {
    "name": "ipython",
    "version": 3
   },
   "file_extension": ".py",
   "mimetype": "text/x-python",
   "name": "python",
   "nbconvert_exporter": "python",
   "pygments_lexer": "ipython3",
   "version": "3.6.5"
  }
 },
 "nbformat": 4,
 "nbformat_minor": 2
}
