{
 "cells": [
  {
   "cell_type": "code",
   "execution_count": 13,
   "metadata": {},
   "outputs": [],
   "source": [
    "from joblib import load\n",
    "import pandas as pd\n",
    "from sklearn.metrics import accuracy_score, precision_score, f1_score, confusion_matrix"
   ]
  },
  {
   "cell_type": "code",
   "execution_count": 10,
   "metadata": {},
   "outputs": [],
   "source": [
    "test = pd.read_csv('SPECT-test.csv', header = None)"
   ]
  },
  {
   "cell_type": "code",
   "execution_count": 11,
   "metadata": {},
   "outputs": [],
   "source": [
    "x_test = test.drop([0], axis=1)\n",
    "y_test = test[0]"
   ]
  },
  {
   "cell_type": "markdown",
   "metadata": {},
   "source": [
    "# Mosqueteiros #1"
   ]
  },
  {
   "cell_type": "code",
   "execution_count": 35,
   "metadata": {},
   "outputs": [
    {
     "name": "stdout",
     "output_type": "stream",
     "text": [
      "F1_Score:  0.6816479400749065\n",
      "Acurácia:  0.5454545454545454\n",
      "Precisão:  0.5290697674418605\n"
     ]
    }
   ],
   "source": [
    "mosqueteiros = load('jez_NV_model_V2.joblib')\n",
    "result = mosqueteiros.predict(x_test)\n",
    "\n",
    "print('F1_Score: ', f1_score(result, y_test))\n",
    "print('Acurácia: ', accuracy_score(result, y_test))\n",
    "print('Precisão: ', precision_score(result, y_test))"
   ]
  },
  {
   "cell_type": "code",
   "execution_count": 45,
   "metadata": {},
   "outputs": [
    {
     "name": "stdout",
     "output_type": "stream",
     "text": [
      "F1_Score:  0.9345238095238094\n",
      "Acurácia:  0.8823529411764706\n",
      "Precisão:  0.9127906976744186\n"
     ]
    }
   ],
   "source": [
    "mosqueteiros2 = load('3_Wuppschlander_Edson_Jez.joblib')\n",
    "result = mosqueteiros2.predict(x_test)\n",
    "\n",
    "print('F1_Score: ', f1_score(result, y_test))\n",
    "print('Acurácia: ', accuracy_score(result, y_test))\n",
    "print('Precisão: ', precision_score(result, y_test))"
   ]
  },
  {
   "cell_type": "markdown",
   "metadata": {},
   "source": [
    "# Juce e Enrique #2"
   ]
  },
  {
   "cell_type": "code",
   "execution_count": 23,
   "metadata": {},
   "outputs": [
    {
     "name": "stdout",
     "output_type": "stream",
     "text": [
      "F1_Score:  0.7252747252747253\n",
      "Acurácia:  0.5989304812834224\n",
      "Precisão:  0.5755813953488372\n"
     ]
    }
   ],
   "source": [
    "juceeenrique1 = load('JuceeEnrique1.joblib')\n",
    "result = juceeenrique1.predict(x_test)\n",
    "\n",
    "print('F1_Score: ', f1_score(result, y_test))\n",
    "print('Acurácia: ', accuracy_score(result, y_test))\n",
    "print('Precisão: ', precision_score(result, y_test))"
   ]
  },
  {
   "cell_type": "code",
   "execution_count": 41,
   "metadata": {},
   "outputs": [
    {
     "name": "stdout",
     "output_type": "stream",
     "text": [
      "F1_Score:  0.9207317073170732\n",
      "Acurácia:  0.8609625668449198\n",
      "Precisão:  0.877906976744186\n"
     ]
    }
   ],
   "source": [
    "juceeenrique2 = load('JuceeEnrique2.joblib')\n",
    "result = juceeenrique2.predict(x_test)\n",
    "\n",
    "print('F1_Score: ', f1_score(result, y_test))\n",
    "print('Acurácia: ', accuracy_score(result, y_test))\n",
    "print('Precisão: ', precision_score(result, y_test))"
   ]
  },
  {
   "cell_type": "code",
   "execution_count": 44,
   "metadata": {},
   "outputs": [
    {
     "name": "stdout",
     "output_type": "stream",
     "text": [
      "F1_Score:  0.8431372549019607\n",
      "Acurácia:  0.7433155080213903\n",
      "Precisão:  0.75\n"
     ]
    }
   ],
   "source": [
    "juceeenrique3 = load('JuceeEnrique3.joblib')\n",
    "result = juceeenrique3.predict(x_test)\n",
    "\n",
    "print('F1_Score: ', f1_score(result, y_test))\n",
    "print('Acurácia: ', accuracy_score(result, y_test))\n",
    "print('Precisão: ', precision_score(result, y_test))"
   ]
  },
  {
   "cell_type": "markdown",
   "metadata": {},
   "source": [
    "# Beatriz #3"
   ]
  },
  {
   "cell_type": "code",
   "execution_count": 21,
   "metadata": {},
   "outputs": [
    {
     "name": "stdout",
     "output_type": "stream",
     "text": [
      "F1_Score:  0.8875000000000001\n",
      "Acurácia:  0.8074866310160428\n",
      "Precisão:  0.8255813953488372\n"
     ]
    }
   ],
   "source": [
    "beatriz1 = load('beatriz1.joblib')\n",
    "result = beatriz1.predict(x_test)\n",
    "\n",
    "print('F1_Score: ', f1_score(result, y_test))\n",
    "print('Acurácia: ', accuracy_score(result, y_test))\n",
    "print('Precisão: ', precision_score(result, y_test))"
   ]
  },
  {
   "cell_type": "code",
   "execution_count": 30,
   "metadata": {},
   "outputs": [
    {
     "name": "stdout",
     "output_type": "stream",
     "text": [
      "F1_Score:  0.8266666666666667\n",
      "Acurácia:  0.7219251336898396\n",
      "Precisão:  0.7209302325581395\n"
     ]
    }
   ],
   "source": [
    "beatriz2 = load('beatriz2NC.joblib')\n",
    "result = beatriz2.predict(x_test)\n",
    "\n",
    "print('F1_Score: ', f1_score(result, y_test))\n",
    "print('Acurácia: ', accuracy_score(result, y_test))\n",
    "print('Precisão: ', precision_score(result, y_test))"
   ]
  },
  {
   "cell_type": "code",
   "execution_count": 34,
   "metadata": {},
   "outputs": [
    {
     "name": "stdout",
     "output_type": "stream",
     "text": [
      "F1_Score:  0.8571428571428571\n",
      "Acurácia:  0.7647058823529411\n",
      "Precisão:  0.7674418604651163\n"
     ]
    }
   ],
   "source": [
    "beatriz3 = load('beatriz3.joblib')\n",
    "result = beatriz3.predict(x_test)\n",
    "\n",
    "print('F1_Score: ', f1_score(result, y_test))\n",
    "print('Acurácia: ', accuracy_score(result, y_test))\n",
    "print('Precisão: ', precision_score(result, y_test))"
   ]
  },
  {
   "cell_type": "markdown",
   "metadata": {},
   "source": [
    "# Gabriel #4"
   ]
  },
  {
   "cell_type": "code",
   "execution_count": 33,
   "metadata": {},
   "outputs": [
    {
     "name": "stdout",
     "output_type": "stream",
     "text": [
      "F1_Score:  0.8278145695364238\n",
      "Acurácia:  0.7219251336898396\n",
      "Precisão:  0.7267441860465116\n"
     ]
    }
   ],
   "source": [
    "gabriel1 = load('gabriel3.joblib')\n",
    "result = gabriel1.predict(x_test)\n",
    "\n",
    "print('F1_Score: ', f1_score(result, y_test))\n",
    "print('Acurácia: ', accuracy_score(result, y_test))\n",
    "print('Precisão: ', precision_score(result, y_test))"
   ]
  },
  {
   "cell_type": "code",
   "execution_count": 42,
   "metadata": {},
   "outputs": [
    {
     "name": "stdout",
     "output_type": "stream",
     "text": [
      "F1_Score:  0.8608414239482202\n",
      "Acurácia:  0.7700534759358288\n",
      "Precisão:  0.7732558139534884\n"
     ]
    }
   ],
   "source": [
    "gabriel2 = load('gabriel1.joblib')\n",
    "result = gabriel2.predict(x_test)\n",
    "\n",
    "print('F1_Score: ', f1_score(result, y_test))\n",
    "print('Acurácia: ', accuracy_score(result, y_test))\n",
    "print('Precisão: ', precision_score(result, y_test))"
   ]
  },
  {
   "cell_type": "markdown",
   "metadata": {},
   "source": [
    "# Ernande #5"
   ]
  },
  {
   "cell_type": "code",
   "execution_count": 46,
   "metadata": {},
   "outputs": [
    {
     "name": "stdout",
     "output_type": "stream",
     "text": [
      "F1_Score:  0.8333333333333333\n",
      "Acurácia:  0.732620320855615\n",
      "Precisão:  0.7267441860465116\n"
     ]
    },
    {
     "name": "stderr",
     "output_type": "stream",
     "text": [
      "/Users/jeanlima/Documents/GitHub/Python-para-IA/venv/lib/python3.6/site-packages/sklearn/base.py:306: UserWarning: Trying to unpickle estimator SVC from version 0.19.1 when using version 0.21.2. This might lead to breaking code or invalid results. Use at your own risk.\n",
      "  UserWarning)\n"
     ]
    }
   ],
   "source": [
    "ernande = load('Ernande.joblib')\n",
    "result = ernande.predict(x_test)\n",
    "\n",
    "print('F1_Score: ', f1_score(result, y_test))\n",
    "print('Acurácia: ', accuracy_score(result, y_test))\n",
    "print('Precisão: ', precision_score(result, y_test))"
   ]
  },
  {
   "cell_type": "markdown",
   "metadata": {},
   "source": [
    "# Alex e Arlindo #6"
   ]
  },
  {
   "cell_type": "code",
   "execution_count": 28,
   "metadata": {},
   "outputs": [
    {
     "name": "stdout",
     "output_type": "stream",
     "text": [
      "F1_Score:  0.8227424749163881\n",
      "Acurácia:  0.7165775401069518\n",
      "Precisão:  0.7151162790697675\n"
     ]
    },
    {
     "name": "stderr",
     "output_type": "stream",
     "text": [
      "/Users/jeanlima/Documents/GitHub/Python-para-IA/venv/lib/python3.6/site-packages/sklearn/base.py:306: UserWarning: Trying to unpickle estimator LabelBinarizer from version 0.19.1 when using version 0.21.2. This might lead to breaking code or invalid results. Use at your own risk.\n",
      "  UserWarning)\n",
      "/Users/jeanlima/Documents/GitHub/Python-para-IA/venv/lib/python3.6/site-packages/sklearn/base.py:306: UserWarning: Trying to unpickle estimator MLPClassifier from version 0.19.1 when using version 0.21.2. This might lead to breaking code or invalid results. Use at your own risk.\n",
      "  UserWarning)\n"
     ]
    }
   ],
   "source": [
    "alex1 = load('alexarlindo1.joblib')\n",
    "result = alex1.predict(x_test)\n",
    "\n",
    "print('F1_Score: ', f1_score(result, y_test))\n",
    "print('Acurácia: ', accuracy_score(result, y_test))\n",
    "print('Precisão: ', precision_score(result, y_test))"
   ]
  },
  {
   "cell_type": "code",
   "execution_count": 29,
   "metadata": {},
   "outputs": [
    {
     "name": "stdout",
     "output_type": "stream",
     "text": [
      "F1_Score:  0.8227424749163881\n",
      "Acurácia:  0.7165775401069518\n",
      "Precisão:  0.7151162790697675\n"
     ]
    },
    {
     "name": "stderr",
     "output_type": "stream",
     "text": [
      "/Users/jeanlima/Documents/GitHub/Python-para-IA/venv/lib/python3.6/site-packages/sklearn/base.py:306: UserWarning: Trying to unpickle estimator LabelBinarizer from version 0.19.1 when using version 0.21.2. This might lead to breaking code or invalid results. Use at your own risk.\n",
      "  UserWarning)\n",
      "/Users/jeanlima/Documents/GitHub/Python-para-IA/venv/lib/python3.6/site-packages/sklearn/base.py:306: UserWarning: Trying to unpickle estimator MLPClassifier from version 0.19.1 when using version 0.21.2. This might lead to breaking code or invalid results. Use at your own risk.\n",
      "  UserWarning)\n"
     ]
    }
   ],
   "source": [
    "alex2 = load('alexarlindo2.joblib')\n",
    "result = alex2.predict(x_test)\n",
    "\n",
    "print('F1_Score: ', f1_score(result, y_test))\n",
    "print('Acurácia: ', accuracy_score(result, y_test))\n",
    "print('Precisão: ', precision_score(result, y_test))"
   ]
  },
  {
   "cell_type": "code",
   "execution_count": 31,
   "metadata": {},
   "outputs": [
    {
     "name": "stdout",
     "output_type": "stream",
     "text": [
      "F1_Score:  0.8496732026143792\n",
      "Acurácia:  0.7540106951871658\n",
      "Precisão:  0.7558139534883721\n"
     ]
    }
   ],
   "source": [
    "alex3 = load('alexarlindo3.joblib')\n",
    "result = alex3.predict(x_test)\n",
    "\n",
    "print('F1_Score: ', f1_score(result, y_test))\n",
    "print('Acurácia: ', accuracy_score(result, y_test))\n",
    "print('Precisão: ', precision_score(result, y_test))"
   ]
  }
 ],
 "metadata": {
  "kernelspec": {
   "display_name": "Python 3",
   "language": "python",
   "name": "python3"
  },
  "language_info": {
   "codemirror_mode": {
    "name": "ipython",
    "version": 3
   },
   "file_extension": ".py",
   "mimetype": "text/x-python",
   "name": "python",
   "nbconvert_exporter": "python",
   "pygments_lexer": "ipython3",
   "version": "3.6.5"
  }
 },
 "nbformat": 4,
 "nbformat_minor": 2
}
